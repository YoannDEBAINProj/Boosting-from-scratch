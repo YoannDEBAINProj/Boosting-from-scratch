{
 "cells": [
  {
   "cell_type": "code",
   "execution_count": 18,
   "id": "b2a93fca",
   "metadata": {},
   "outputs": [],
   "source": [
    "import numpy as np\n",
    "import pandas as pd\n",
    "import matplotlib.pyplot as plt\n",
    "import matplotlib.lines as mlines\n",
    "import time\n",
    "from scipy.optimize import minimize_scalar\n",
    "\n",
    "import warnings\n",
    "warnings.filterwarnings('ignore')"
   ]
  },
  {
   "cell_type": "markdown",
   "id": "ed12edce",
   "metadata": {},
   "source": [
    "# objectif\n",
    "\n",
    "component-wise ReLu boosting regression (avec feature quanti)\n",
    "\n",
    "**deg_inter** : entier indiquant le degre d'interaction entre les variables. \n",
    "\n",
    "**form_inter** : string indiquant le type d'interaction. uniquement valable si deg_inter>0\n",
    "- 'ind' : indicatrice \n",
    "- 'mult' : multiplication\n",
    "\n",
    "**step_bef_inter** : entier indiquant le nombre d'étapes à considérer avant d'inclure des intéractions dans le modèle. uniquement valable si deg_inter>0\n",
    "\n",
    "**min_obs_bin** : entier indiquant le nombre minimal d'observations pour effectuer une regression\n",
    "\n",
    "**bins** : \n",
    "- None indiquant que l'on va chercher tous les bins de taille d'au moins min_obs_bin observations\n",
    "- entier indiquant .........\n",
    "\n",
    "**w** : \n",
    "- None indiquant que les individus ont le meme poids\n",
    "- array contenant les poids des individus \n",
    "\n",
    "**learning_rate** : \n",
    "\n",
    "- float indiquant la taille du pas \n",
    "- string 'steepest' indiquant que celui ci sera estime a chaque iteration\n",
    "\n",
    "\n",
    "**loss** : string indiquant la loss a utiliser. \n",
    "\n",
    "- 'mse' : ...,\n",
    "- 'mae' : ......, \n",
    "- ......\n",
    "\n",
    "\n",
    "**stop** : tuple (string, float) indiquant la regle d'arret.\n",
    "- ('m', x) : indique que l'on arrete apres x etapes\n",
    "- ('info', x) : indique que l'on arrete lorsque la critere d'info augmente.......\n",
    "- ('grad', x) : indique que l'on arrete lorsque la gradient est inferieur a x\n",
    "- ('loss', x) : indique que l'on arrete lorsque la loss est inferieur a x\n",
    "- ('dif_loss', x) : indique que l'on arrete lorsque la difference de loss est inferieur a x\n",
    "\n",
    "\n",
    "**moment** : booleen indiquant si l'on utilise le boosting avec moment \n"
   ]
  },
  {
   "cell_type": "code",
   "execution_count": 39,
   "id": "1ca53d02",
   "metadata": {},
   "outputs": [],
   "source": [
    "n=1000000\n",
    "min_obs=int(np.ceil(np.sqrt(n)))\n",
    "# min_obs=10\n",
    "x=np.random.uniform(-10,10,(n,))\n",
    "# y=x**2+np.random.normal(0,2,(n,))\n",
    "y=np.sin(x)+np.random.normal(0,0.1,(n,))"
   ]
  },
  {
   "cell_type": "code",
   "execution_count": null,
   "id": "efad2cf2",
   "metadata": {},
   "outputs": [],
   "source": [
    "print(beta)\n",
    "print(k)"
   ]
  },
  {
   "cell_type": "code",
   "execution_count": 131,
   "id": "4b4e689e",
   "metadata": {},
   "outputs": [],
   "source": [
    "n=100000\n",
    "min_obs=int(np.ceil(np.sqrt(n)))\n",
    "# min_obs=10\n",
    "x=np.random.uniform(-10,10,(n,))\n",
    "y=np.sin(x)+np.random.normal(0,1,(n,))"
   ]
  },
  {
   "cell_type": "code",
   "execution_count": 128,
   "id": "f38a068e",
   "metadata": {},
   "outputs": [
    {
     "data": {
      "image/png": "[encoded data removed]",
      "text/plain": [
       "<Figure size 432x288 with 1 Axes>"
      ]
     },
     "metadata": {
      "needs_background": "light"
     },
     "output_type": "display_data"
    }
   ],
   "source": [
    "def f(k, x, y):\n",
    "    z=np.maximum(x-k, 0)\n",
    "    num=np.dot(y, z)**2\n",
    "    denom=np.sum(z**2)\n",
    "    return -num/denom\n",
    "\n",
    "k_vals=np.linspace(-10,10,n)\n",
    "f_vals=np.array([f(k, x, y) for k in k_vals])\n",
    "\n",
    "plt.scatter(k_vals, f_vals)\n",
    "plt.show()"
   ]
  },
  {
   "cell_type": "code",
   "execution_count": 79,
   "id": "a5aaae4a",
   "metadata": {},
   "outputs": [],
   "source": [
    "def optimize_k(x, y):\n",
    "    \n",
    "    idx_sorted = np.argsort(x)\n",
    "    x_sorted= x[idx_sorted]\n",
    "    \n",
    "    x_min=x_sorted[min_obs-1]\n",
    "    x_max=x_sorted[n-min_obs]\n",
    "    \n",
    "    def objective_right(k):\n",
    "        z=np.maximum(x-k, 0)\n",
    "        beta=np.dot(y,z)/np.sum(z**2)\n",
    "        r = np.sum((y-beta*z)**2)\n",
    "        return r\n",
    "    \n",
    "    def objective_left(k):\n",
    "        z=np.maximum(k-x, 0)\n",
    "        beta=np.dot(y,z)/np.sum(z**2)\n",
    "        r = np.sum((y-beta*z)**2)\n",
    "        return r\n",
    "    \n",
    "    result_left = minimize_scalar(objective_left, bounds=(x_min, x_max), method='bounded')\n",
    "    result_right = minimize_scalar(objective_right, bounds=(x_min, x_max), method='bounded')\n",
    "    if result_left.fun < result_right.fun:\n",
    "        return (result_left.x, \"left\", result_left.fun)\n",
    "    else : \n",
    "        return (result_right.x, \"right\", result_right.fun)\n",
    "    \n",
    "\n",
    "\n",
    "\n",
    "\n",
    "    "
   ]
  },
  {
   "cell_type": "code",
   "execution_count": 132,
   "id": "1b50d992",
   "metadata": {},
   "outputs": [
    {
     "name": "stdout",
     "output_type": "stream",
     "text": [
      "(5.261129211534695, 'right', 145202.47489508608)\n",
      "time :  0.07938146591186523\n"
     ]
    }
   ],
   "source": [
    "start = time.time()\n",
    "o=optimize_k(x, y)\n",
    "end = time.time()\n",
    "\n",
    "print(o)\n",
    "print(\"time : \", end-start)"
   ]
  },
  {
   "cell_type": "code",
   "execution_count": 133,
   "id": "ad2bcf1e",
   "metadata": {},
   "outputs": [
    {
     "name": "stdout",
     "output_type": "stream",
     "text": [
      "0.12330974277243055\n",
      "5.261179089006763\n",
      "right\n",
      "145202.47490507062\n",
      "time :  0.5356576442718506\n"
     ]
    }
   ],
   "source": [
    "start = time.time()\n",
    "beta_min, k_min, side, erreur_min, y_pred = best_relu(x,y,min_obs)\n",
    "end = time.time()\n",
    "print(beta_min)\n",
    "print(k_min)\n",
    "print(side)\n",
    "print(erreur_min)\n",
    "print(\"time : \", end-start)\n",
    "# y_prim=y-y_pred\n",
    "# beta_min, k_min, side, erreur_min, y_pred = best_relu(x,y_prim,min_obs)\n",
    "# for i in range(1000):\n",
    "#     y_prim=y_prim-y_pred\n",
    "#     beta_min, k_min, side, erreur_min, y_pred = best_relu(x,y_prim,min_obs)\n",
    "# y_prim=y_prim-y_pred"
   ]
  },
  {
   "cell_type": "code",
   "execution_count": 66,
   "id": "539581c7",
   "metadata": {},
   "outputs": [
    {
     "data": {
      "image/png": "[encoded data removed]",
      "text/plain": [
       "<Figure size 432x288 with 1 Axes>"
      ]
     },
     "metadata": {
      "needs_background": "light"
     },
     "output_type": "display_data"
    }
   ],
   "source": [
    "fig, ax = plt.subplots()\n",
    "ax.scatter(x, y_prim)\n",
    "xmin, xmax = ax.get_xbound()\n",
    "if side==\"left\":\n",
    "    x_line = [xmin, k_min]\n",
    "    y_line = [(k_min-xmin)*beta_min , 0]\n",
    "else : \n",
    "    x_line = [k_min, xmax]\n",
    "    y_line = [0, (xmax-k_min)*beta_min]\n",
    "\n",
    "# Create and add the line\n",
    "line = mlines.Line2D(x_line, y_line, color='red', linewidth=2)\n",
    "ax.add_line(line)\n",
    "plt.show()"
   ]
  },
  {
   "cell_type": "code",
   "execution_count": 72,
   "id": "fa6a8968",
   "metadata": {},
   "outputs": [],
   "source": [
    "def optimize_abs_slope(x, y):\n",
    "    def objective(a):\n",
    "        r = np.abs(y-a*x).sum()\n",
    "        return r\n",
    "    \n",
    "    result = minimize_scalar(objective, method='brent')\n",
    "    return result.x\n"
   ]
  },
  {
   "cell_type": "code",
   "execution_count": 81,
   "id": "7eecb81b",
   "metadata": {},
   "outputs": [],
   "source": [
    "\n",
    "def weighted_median_interpolated(x, y):\n",
    "\n",
    "    y_w=y/x\n",
    "    w=np.abs(x)\n",
    "    \n",
    "    # Sort by values\n",
    "    sorted_indices = np.argsort(y_w)\n",
    "    y_w_sorted = y_w[sorted_indices]\n",
    "    weights_sorted = w[sorted_indices]\n",
    "\n",
    "    total_weight = np.sum(weights_sorted)\n",
    "    cum_weights = np.cumsum(weights_sorted)\n",
    "\n",
    "    # Find where cumulative weight crosses 50%\n",
    "    cutoff = 0.5 * total_weight\n",
    "    idx = np.searchsorted(cum_weights, cutoff)\n",
    "\n",
    "    if idx == 0:\n",
    "        return y_w_sorted[0]\n",
    "    elif cum_weights[idx] == cutoff or weights_sorted[idx] == 0:\n",
    "        return y_w_sorted[idx]\n",
    "    else:\n",
    "        # Linear interpolation between previous and current\n",
    "        w1 = cum_weights[idx - 1]\n",
    "        w2 = cum_weights[idx]\n",
    "        v1 = y_w_sorted[idx - 1]\n",
    "        v2 = y_w_sorted[idx]\n",
    "        return v1 + (cutoff - w1) / (w2 - w1) * (v2 - v1)\n"
   ]
  },
  {
   "cell_type": "code",
   "execution_count": 36,
   "id": "67ec0d05",
   "metadata": {},
   "outputs": [],
   "source": [
    "# from scipy.optimize import minimize_scalar\n",
    "\n",
    "n=1000000\n",
    "x=np.random.uniform(-10,10,(n,))\n",
    "# y=x**2+np.random.normal(0,1,(n,))\n",
    "y=np.sin(x)+np.random.normal(0,2,(n,))"
   ]
  },
  {
   "cell_type": "code",
   "execution_count": 37,
   "id": "7942e5c8",
   "metadata": {},
   "outputs": [
    {
     "name": "stdout",
     "output_type": "stream",
     "text": [
      "5.522446155548096\n"
     ]
    }
   ],
   "source": [
    "start = time.time()\n",
    "beta_min, k_min, side, erreur_min, y_pred = best_relu(x,y,min_obs)\n",
    "end = time.time()\n",
    "\n",
    "print(end-start)"
   ]
  },
  {
   "cell_type": "code",
   "execution_count": 140,
   "id": "48d5e09c",
   "metadata": {},
   "outputs": [
    {
     "name": "stdout",
     "output_type": "stream",
     "text": [
      "0.2310035228729248\n"
     ]
    }
   ],
   "source": [
    "start = time.time()\n",
    "sol_opt=optimize_abs_slope(y_pred, y)\n",
    "end = time.time()\n",
    "\n",
    "print(end-start)"
   ]
  },
  {
   "cell_type": "code",
   "execution_count": 141,
   "id": "f2380538",
   "metadata": {},
   "outputs": [
    {
     "name": "stdout",
     "output_type": "stream",
     "text": [
      "0.9831845595978193\n"
     ]
    }
   ],
   "source": [
    "print(sol_opt)"
   ]
  },
  {
   "cell_type": "code",
   "execution_count": 142,
   "id": "a62ba8b5",
   "metadata": {},
   "outputs": [
    {
     "name": "stdout",
     "output_type": "stream",
     "text": [
      "0.08925223350524902\n"
     ]
    }
   ],
   "source": [
    "start = time.time()\n",
    "sol_w=weighted_median_interpolated(y_pred, y)\n",
    "\n",
    "end = time.time()\n",
    "\n",
    "print(end-start)"
   ]
  },
  {
   "cell_type": "code",
   "execution_count": 143,
   "id": "165fd4cf",
   "metadata": {},
   "outputs": [
    {
     "name": "stdout",
     "output_type": "stream",
     "text": [
      "0.9831838543495849\n"
     ]
    }
   ],
   "source": [
    "print(sol_w)"
   ]
  },
  {
   "cell_type": "code",
   "execution_count": 67,
   "id": "ba9e4a51",
   "metadata": {},
   "outputs": [],
   "source": [
    "class Loss:\n",
    "    def __init__(self, name=\"squared\", delta=1.0):\n",
    "        self.name = name\n",
    "        self.delta = delta\n",
    "\n",
    "    def loss(self, y_true, y_pred):\n",
    "        diff = y_true - y_pred\n",
    "        if self.name == \"squared\":\n",
    "            return 0.5 * np.sum(diff ** 2)\n",
    "        elif self.name == \"absolute\":\n",
    "            return np.sum(np.abs(diff))\n",
    "        elif self.name == \"huber\":\n",
    "            abs_diff = np.abs(diff)\n",
    "            return np.mean(np.where(abs_diff <= self.delta,\n",
    "                                    0.5 * diff ** 2,\n",
    "                                    self.delta * (abs_diff - 0.5 * self.delta)))\n",
    "        \n",
    "    def gradient(self, y_true, y_pred):\n",
    "        if self.name == \"squared\":\n",
    "            return y_true - y_pred\n",
    "        elif self.name == \"absolute\":\n",
    "            return np.sign(y_true - y_pred)\n",
    "        elif self.name == \"huber\":\n",
    "            diff = y_true - y_pred\n",
    "            grad = np.where(np.abs(diff) <= self.delta, diff, self.delta * np.sign(diff))\n",
    "            return grad\n",
    "        "
   ]
  },
  {
   "cell_type": "code",
   "execution_count": 9,
   "id": "5fd44bf5",
   "metadata": {},
   "outputs": [],
   "source": [
    "#?proposer fit residus avec autre chose que mse?\n",
    "\n",
    "#=> eviter recalcule\n",
    "    #stocker ordre variables \n",
    "    #stocker sommex et somme_x_left \n",
    "    \n",
    "# tester avec descente de gradient, brent method : qui est plus rapide ? \n",
    "\n",
    "def best_relu(x, y, min_obs):\n",
    "    n=x.shape[0]\n",
    "    idx_sorted = np.argsort(x)\n",
    "    x_sorted, y_sorted = x[idx_sorted], y[idx_sorted]\n",
    "\n",
    "    somme_y=np.sum(y)\n",
    "    somme_x=np.sum(x)\n",
    "    somme_x2=np.sum(x**2)\n",
    "    somme_y2=np.sum(y**2)\n",
    "    somme_xy=np.dot(x, y)\n",
    "\n",
    "    k=(x_sorted[min_obs-1]+x_sorted[min_obs])/2\n",
    "    #h(k-x)1_{x<=k}\n",
    "    x_left=x_sorted[:min_obs]\n",
    "    y_left=y_sorted[:min_obs]\n",
    "    n_obs_left=min_obs\n",
    "    somme_x_left=np.sum(x_left)\n",
    "    somme_y_left=np.sum(y_left)\n",
    "    somme_x2_left=np.sum(x_left**2)\n",
    "    somme_xy_left=np.dot(x_left, y_left)\n",
    "\n",
    "    cov_left=(k*somme_y_left-somme_xy_left)\n",
    "    ecart_x2_left=((n_obs_left*(k**2))-(2*k*somme_x_left)+somme_x2_left)\n",
    "    beta_left=cov_left/ecart_x2_left\n",
    "    erreur_left=somme_y2-(2*beta_left*cov_left)+(beta_left**2)*ecart_x2_left\n",
    "    erreur_min=erreur_left\n",
    "    beta_min=beta_left\n",
    "    side=\"left\"\n",
    "    k_min=k\n",
    "\n",
    "\n",
    "\n",
    "    somme_y_right=somme_y-somme_y_left\n",
    "    somme_x_right=somme_x-somme_x_left\n",
    "    somme_x2_right=somme_x2-somme_x2_left\n",
    "    somme_xy_right=somme_xy-somme_xy_left\n",
    "    n_obs_right=n-n_obs_left\n",
    "    cov_right=(somme_xy_right-k*somme_y_right)\n",
    "    ecart_x2_right=((n_obs_right*(k**2))-(2*k*somme_x_right)+somme_x2_right)\n",
    "    beta_right=cov_right/ecart_x2_right\n",
    "    erreur_right=somme_y2-(2*beta_right*cov_right)+(beta_right**2)*ecart_x2_right\n",
    "    if erreur_right<erreur_min:\n",
    "        erreur_min=erreur_right\n",
    "        beta_min=beta_right\n",
    "        side=\"right\"\n",
    "        k_min=k\n",
    "\n",
    "\n",
    "    for i in range(min_obs+1, n-min_obs, 1):\n",
    "        k=(x_sorted[i-1]+x_sorted[i])/2\n",
    "        somme_x_left+=x_sorted[i-1]\n",
    "        somme_y_left+=y_sorted[i-1]\n",
    "        somme_x2_left+=x_sorted[i-1]**2\n",
    "        somme_xy_left+=y_sorted[i-1]*x_sorted[i-1]\n",
    "        n_obs_left+=1\n",
    "        cov_left=(k*somme_y_left-somme_xy_left)\n",
    "        ecart_x2_left=((n_obs_left*(k**2))-(2*k*somme_x_left)+somme_x2_left)\n",
    "        beta_left=cov_left/ecart_x2_left\n",
    "        erreur_left=somme_y2-(2*beta_left*cov_left)+(beta_left**2)*ecart_x2_left\n",
    "        if erreur_left<erreur_min:\n",
    "            erreur_min=erreur_left\n",
    "            beta_min=beta_left\n",
    "            side=\"left\"\n",
    "            k_min=k\n",
    "\n",
    "\n",
    "        somme_y_right=somme_y-somme_y_left\n",
    "        somme_x_right=somme_x-somme_x_left\n",
    "        somme_x2_right=somme_x2-somme_x2_left\n",
    "        somme_xy_right=somme_xy-somme_xy_left\n",
    "        n_obs_right=n-n_obs_left\n",
    "        cov_right=(somme_xy_right-k*somme_y_right)\n",
    "        ecart_x2_right=((n_obs_right*(k**2))-(2*k*somme_x_right)+somme_x2_right)\n",
    "        beta_right=cov_right/ecart_x2_right\n",
    "        erreur_right=somme_y2-(2*beta_right*cov_right)+(beta_right**2)*ecart_x2_right\n",
    "        if erreur_right<erreur_min:\n",
    "            erreur_min=erreur_right\n",
    "            beta_min=beta_right\n",
    "            side=\"right\"\n",
    "            k_min=k\n",
    "    \n",
    "    if side==\"left\":\n",
    "        y_pred=np.where(x<=k_min, beta_min*(k_min-x), 0)\n",
    "    else : \n",
    "        y_pred=np.where(x>=k_min, beta_min*(x-k_min), 0)\n",
    "    return (beta_min, k_min, side, erreur_min, y_pred)"
   ]
  },
  {
   "cell_type": "code",
   "execution_count": null,
   "id": "1fc83d03",
   "metadata": {},
   "outputs": [],
   "source": [
    "class ComponentWiseBoostingRegressor:\n",
    "    def __init__(self, stop=50, mode_learning_rate=\"fixe\", fix_learning_rate=0.1 loss=\"squared\",\n",
    "                 min_obs_bin=50, deg_inter=1, moment=False, bins=None, form_inter=\"ind\", step_bef_inter=0):\n",
    "        self.stop = stop\n",
    "        self.mode_learning_rate=mode_learning_rate\n",
    "        \n",
    "        if mode_learning_rate==\"fixe\"\n",
    "            self.learning_rate = fix_learning_rate\n",
    "        else : \n",
    "            self.learning_rate=0\n",
    "            \n",
    "        self.loss_func = Loss(loss)\n",
    "        self.min_obs_bin = min_obs_bin\n",
    "        self.deg_inter = deg_inter\n",
    "        self.moment = moment\n",
    "        self.bins=bins\n",
    "        self.intercept=0\n",
    "        #ajouter opti intercept lors de la recherche du meilleur modele\n",
    "        self.models = dict()\n",
    "        #structure dict model : indice feature -> side -> k : beta\n",
    "\n",
    "    def fit(self, X, y, w=None):\n",
    "        self.models = dict()\n",
    "            \n",
    "        residuals = self.loss_func.gradient(y, F)\n",
    "        \n",
    "        if self.stop[0]=='m':\n",
    "            for i in range(0,self.stop[1],1):\n",
    "                residuals=update_model(self, residuals, X)\n",
    "        elif self.stop[0]=='info':\n",
    "            flag=True\n",
    "            while flag : #critere info inf diminue \n",
    "                #cherche best modele\n",
    "        elif self.stop[0]=='grad' : \n",
    "            while gradient <=self.stop[1]:\n",
    "                #cherche best modele\n",
    "        elif self.stop[0]=='loss':\n",
    "            dif_loss=float('inf')\n",
    "            while dif_loss <=self.stop[1]:\n",
    "                #cherche best modele\n",
    "        \n",
    "    def update_model(self,):\n",
    "        best_score = float('inf')\n",
    "        best_beta, best_k, best_side = None, None, None\n",
    "        best_feature = None\n",
    "        y_pred=None\n",
    "        n_samples, n_features = X.shape\n",
    "        \n",
    "        #paralleliser\n",
    "        for j in range(n_features):\n",
    "            model = best_relu()\n",
    "            if model[3] < best_score:\n",
    "                best_score = model[3]\n",
    "                best_beta, best_k, best_side = model[0:3]\n",
    "                best_feature = j\n",
    "                y_pred=model[4]\n",
    "                \n",
    "        if self.mode_learning_rate==\"steepest\": \n",
    "            if self.loss==\"squared\":\n",
    "                self.learning_rate=1\n",
    "            elif self.loss==\"absolute\":\n",
    "                self.learning_rate=weighted_median_interpolated(y_pred, y)\n",
    "            else : \n",
    "                self.learning_rate=optimize_huber_slope(y_pred, y)\n",
    "            \n",
    "        if self.models.get(best_feature):\n",
    "            if self.models.get(best_side):\n",
    "                if self.models.get(best_k):\n",
    "                    self.models[best_feature][best_side][best_k]+=(self.learning_rate*best_beta)\n",
    "                else : \n",
    "                    self.models[best_feature][best_side][best_k]=(self.learning_rate*best_beta)\n",
    "            else :\n",
    "                self.models[best_feature][best_side]={best_k : self.learning_rate*best_beta}\n",
    "        else : \n",
    "            self.models[best_feature]={best_side : {best_k : self.learning_rate*best_beta}}\n",
    "\n",
    "        return self.loss_func.gradient(residuals, self.learning_rate*y_pred)\n",
    "        \n",
    "        \n",
    "    def reecriture(self):\n",
    "        return None\n",
    "    \n",
    "    \n",
    "    def predict(self, X):\n",
    "        return None\n"
   ]
  },
  {
   "cell_type": "code",
   "execution_count": null,
   "id": "03695bb2",
   "metadata": {},
   "outputs": [],
   "source": []
  }
 ],
 "metadata": {
  "kernelspec": {
   "display_name": "Python 3 (ipykernel)",
   "language": "python",
   "name": "python3"
  },
  "language_info": {
   "codemirror_mode": {
    "name": "ipython",
    "version": 3
   },
   "file_extension": ".py",
   "mimetype": "text/x-python",
   "name": "python",
   "nbconvert_exporter": "python",
   "pygments_lexer": "ipython3",
   "version": "3.9.7"
  }
 },
 "nbformat": 4,
 "nbformat_minor": 5
}
